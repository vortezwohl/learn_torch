{
 "cells": [
  {
   "metadata": {},
   "cell_type": "markdown",
   "source": [
    "<script defer src=\"https://cdn.jsdelivr.net/npm/katex@0.16.11/dist/katex.min.js\" integrity=\"sha384-7zkQWkzuo3B5mTepMUcHkMB5jZaolc2xDwL6VFqjFALcbeS9Ggm/Yr2r3Dy4lfFg\" crossorigin=\"anonymous\"></script>\n",
    "# Tensor 张量\n",
    "\n",
    "张量是一种特殊的数据结构，与向量和矩阵非常相似（向量是 1 阶张量，而矩阵是 2 阶张量）。在 PyTorch 中，我们使用张量来编码模型的输入和输出，以及模型的参数\n",
    "\n",
    ">张量类似于 [NumPy](https://numpy.com.cn/) 的 ndarray，但张量可以在 GPU 或其他硬件加速器上运行。事实上，张量和 NumPy 数组通常可以共享相同的底层内存，从而无需复制数据（请参阅 [与 NumPy 的桥接](https://pytorch.ac.cn/tutorials/beginner/blitz/tensor_tutorial.html#bridge-to-np-label)）"
   ],
   "id": "9e82752265eced9b"
  },
  {
   "cell_type": "code",
   "id": "initial_id",
   "metadata": {
    "collapsed": true,
    "ExecuteTime": {
     "end_time": "2024-09-30T05:00:26.992768Z",
     "start_time": "2024-09-30T05:00:26.989746Z"
    }
   },
   "source": [
    "import torch\n",
    "import numpy as np"
   ],
   "outputs": [],
   "execution_count": 37
  },
  {
   "metadata": {},
   "cell_type": "markdown",
   "source": [
    "## 初始化张量\n",
    "\n",
    "初始化张量有以下多种方式"
   ],
   "id": "3048d1cc798d1af0"
  },
  {
   "metadata": {
    "ExecuteTime": {
     "end_time": "2024-09-30T05:00:27.008424Z",
     "start_time": "2024-09-30T05:00:27.003342Z"
    }
   },
   "cell_type": "code",
   "source": [
    "# 直接从 Python 列表初始化\n",
    "data = [[1, 2],[3, 4]]\n",
    "x_data = torch.tensor(data)\n",
    "x_data"
   ],
   "id": "78d7dda0b1407d1e",
   "outputs": [
    {
     "data": {
      "text/plain": [
       "tensor([[1, 2],\n",
       "        [3, 4]])"
      ]
     },
     "execution_count": 38,
     "metadata": {},
     "output_type": "execute_result"
    }
   ],
   "execution_count": 38
  },
  {
   "metadata": {
    "ExecuteTime": {
     "end_time": "2024-09-30T05:00:27.232990Z",
     "start_time": "2024-09-30T05:00:27.227745Z"
    }
   },
   "cell_type": "code",
   "source": [
    "# 从 Numpy 多维数组创建张量\n",
    "np_array = np.array(data)\n",
    "x_np = torch.from_numpy(np_array)\n",
    "x_np"
   ],
   "id": "df5daf70998c52eb",
   "outputs": [
    {
     "data": {
      "text/plain": [
       "tensor([[1, 2],\n",
       "        [3, 4]])"
      ]
     },
     "execution_count": 39,
     "metadata": {},
     "output_type": "execute_result"
    }
   ],
   "execution_count": 39
  },
  {
   "metadata": {
    "ExecuteTime": {
     "end_time": "2024-09-30T05:00:27.379204Z",
     "start_time": "2024-09-30T05:00:27.371462Z"
    }
   },
   "cell_type": "code",
   "source": [
    "# 从另一个张量初始化\n",
    "# 除非显式覆盖，否则新张量将保留参数张量的属性（形状、数据类型）\n",
    "# xxx_like 方法会创建一个形状和参数张量相同的张量\n",
    "x_ones = torch.ones_like(x_data) # retains the properties of x_data\n",
    "print(f\"Ones Tensor: \\n {x_ones} \\n\")\n",
    "\n",
    "x_rand = torch.rand_like(x_data, dtype=torch.float) # overrides the datatype of x_data\n",
    "print(f\"Random Tensor: \\n {x_rand} \\n\")"
   ],
   "id": "7102072339213edb",
   "outputs": [
    {
     "name": "stdout",
     "output_type": "stream",
     "text": [
      "Ones Tensor: \n",
      " tensor([[1, 1],\n",
      "        [1, 1]]) \n",
      "\n",
      "Random Tensor: \n",
      " tensor([[0.9947, 0.7799],\n",
      "        [0.2547, 0.1404]]) \n",
      "\n"
     ]
    }
   ],
   "execution_count": 40
  },
  {
   "metadata": {
    "ExecuteTime": {
     "end_time": "2024-09-30T05:00:27.469050Z",
     "start_time": "2024-09-30T05:00:27.462889Z"
    }
   },
   "cell_type": "code",
   "source": [
    "shape = (2,3,)\n",
    "rand_tensor = torch.rand(shape)\n",
    "ones_tensor = torch.ones(shape)\n",
    "zeros_tensor = torch.zeros(shape)\n",
    "\n",
    "print(f\"Random Tensor: \\n {rand_tensor} \\n\")\n",
    "print(f\"Ones Tensor: \\n {ones_tensor} \\n\")\n",
    "print(f\"Zeros Tensor: \\n {zeros_tensor}\")"
   ],
   "id": "91acb8839916f241",
   "outputs": [
    {
     "name": "stdout",
     "output_type": "stream",
     "text": [
      "Random Tensor: \n",
      " tensor([[0.0239, 0.3933, 0.6001],\n",
      "        [0.5332, 0.9554, 0.0595]]) \n",
      "\n",
      "Ones Tensor: \n",
      " tensor([[1., 1., 1.],\n",
      "        [1., 1., 1.]]) \n",
      "\n",
      "Zeros Tensor: \n",
      " tensor([[0., 0., 0.],\n",
      "        [0., 0., 0.]])\n"
     ]
    }
   ],
   "execution_count": 41
  },
  {
   "metadata": {},
   "cell_type": "markdown",
   "source": [
    "### 随机初始化\n",
    "\n",
    "pytorch 支持符合多种分布的随机初始化"
   ],
   "id": "e00e74c066f5a72e"
  },
  {
   "metadata": {
    "ExecuteTime": {
     "end_time": "2024-09-30T05:37:05.960543Z",
     "start_time": "2024-09-30T05:37:05.952375Z"
    }
   },
   "cell_type": "code",
   "source": [
    "# 创建基础张量\n",
    "base = torch.empty(3,3).uniform_(0,1)\n",
    "base"
   ],
   "id": "5a64965b494f4b64",
   "outputs": [
    {
     "data": {
      "text/plain": [
       "tensor([[0.8533, 0.7253, 0.9860],\n",
       "        [0.5154, 0.9288, 0.9403],\n",
       "        [0.3603, 0.4420, 0.4256]])"
      ]
     },
     "execution_count": 78,
     "metadata": {},
     "output_type": "execute_result"
    }
   ],
   "execution_count": 78
  },
  {
   "metadata": {},
   "cell_type": "markdown",
   "source": ">torch.empty 创建的张量中的元素不会初始化为特定的值。相反，这些元素会包含内存中当前的残留值，这些值是未定义的，可能是任意的浮点数",
   "id": "4cf8dc95f92ab12c"
  },
  {
   "metadata": {},
   "cell_type": "markdown",
   "source": [
    "#### 伯努利分布\n",
    "\n",
    "伯努利分布（Bernoulli distribution）是一种离散型概率分布，用于描述只有两种可能结果的单次随机试验或实验。这两种结果通常被称为“成功”和“失败”，在数学表达中分别用 1 和 0 来表示。伯努利分布是二项分布的特例，当进行一次伯努利试验时，其结果服从伯努利分布"
   ],
   "id": "22e9c6c3a6c578b"
  },
  {
   "metadata": {
    "ExecuteTime": {
     "end_time": "2024-09-30T05:39:45.336609Z",
     "start_time": "2024-09-30T05:39:45.332034Z"
    }
   },
   "cell_type": "code",
   "source": [
    "# 伯努利分布（其中原始张量的每一位都代表其元素在伯努利事件中为 1 的概率）\n",
    "torch.bernoulli(base)"
   ],
   "id": "ce843a56490194b2",
   "outputs": [
    {
     "data": {
      "text/plain": [
       "tensor([[1., 1., 1.],\n",
       "        [0., 1., 1.],\n",
       "        [0., 0., 1.]])"
      ]
     },
     "execution_count": 92,
     "metadata": {},
     "output_type": "execute_result"
    }
   ],
   "execution_count": 92
  },
  {
   "metadata": {},
   "cell_type": "markdown",
   "source": [
    "#### 多项式分布\n",
    "\n",
    "多项式分布（Multinomial Distribution）是一种离散概率分布，用于描述在固定次数的独立实验中，每个实验有多个可能的结果，并且每个实验的结果互斥时，每个可能结果出现次数的概率分布"
   ],
   "id": "d9d2953e5721a08e"
  },
  {
   "metadata": {
    "ExecuteTime": {
     "end_time": "2024-09-30T05:54:45.741636Z",
     "start_time": "2024-09-30T05:54:45.736517Z"
    }
   },
   "cell_type": "code",
   "source": [
    "# 多项式分布\n",
    "# 定义每个类别的权重，对应于每个结果的概率\n",
    "weights = torch.tensor([15,20,25,40], dtype=torch.float)\n",
    "# 执行抽样, replacement 代表抽烟是带替换的，即一个样本可以在结果中出现多次\n",
    "torch.multinomial(weights, 10, replacement=True)"
   ],
   "id": "fe6d109c0bcb0fd5",
   "outputs": [
    {
     "data": {
      "text/plain": [
       "tensor([3, 2, 3, 3, 3, 1, 1, 2, 2, 3])"
      ]
     },
     "execution_count": 166,
     "metadata": {},
     "output_type": "execute_result"
    }
   ],
   "execution_count": 166
  },
  {
   "metadata": {},
   "cell_type": "markdown",
   "source": [
    "#### 高斯分布\n",
    "\n",
    "高斯分布（Gaussian distribution），是统计学与概率论中最常见的概率分布之一。其图形是一个对称的钟形曲线，被称为正态分布曲线或高斯钟形曲线"
   ],
   "id": "b6cff3315792598f"
  },
  {
   "metadata": {
    "ExecuteTime": {
     "end_time": "2024-09-30T05:57:23.012428Z",
     "start_time": "2024-09-30T05:57:22.905643Z"
    }
   },
   "cell_type": "code",
   "source": [
    "# 高斯分布（每一维的均值和方差分别由张量参数决定）\n",
    "torch.normal(mean=torch.arange(1., 11.), std=torch.arange(1, 0, -0.1))"
   ],
   "id": "7d4d976ca6ca949a",
   "outputs": [
    {
     "data": {
      "text/plain": [
       "tensor([1.0797, 0.4763, 3.3771, 2.1580, 4.4411, 5.6283, 6.6492, 7.9054, 8.8766,\n",
       "        9.8960])"
      ]
     },
     "execution_count": 167,
     "metadata": {},
     "output_type": "execute_result"
    }
   ],
   "execution_count": 167
  },
  {
   "metadata": {
    "ExecuteTime": {
     "end_time": "2024-09-30T06:00:07.637810Z",
     "start_time": "2024-09-30T06:00:07.631942Z"
    }
   },
   "cell_type": "code",
   "source": [
    "# 高斯分布（固定均值和方差，生成一个高斯数）\n",
    "torch.normal(mean=torch.tensor(0.0), std=torch.tensor(1.0))"
   ],
   "id": "9579918ef82e45a3",
   "outputs": [
    {
     "data": {
      "text/plain": [
       "tensor(-0.9422)"
      ]
     },
     "execution_count": 174,
     "metadata": {},
     "output_type": "execute_result"
    }
   ],
   "execution_count": 174
  },
  {
   "metadata": {},
   "cell_type": "markdown",
   "source": [
    "#### 泊松分布\n",
    "\n",
    "泊松分布（Poisson Distribution）是一种离散概率分布，用于描述在固定时间间隔或固定空间内发生某事件的次数的概率。它经常用于描述稀有事件的计数数据，例如电话呼叫中心接到的呼叫次数、某网站在特定时间内的访问次数、放射性物质发射粒子的数量等，当事件的平均发生率较大时，泊松分布将逼近高斯分布"
   ],
   "id": "caf94b79885d2128"
  },
  {
   "metadata": {
    "ExecuteTime": {
     "end_time": "2024-09-30T06:11:28.205790Z",
     "start_time": "2024-09-30T06:11:28.200340Z"
    }
   },
   "cell_type": "code",
   "source": [
    "# 泊松分布\n",
    "# 生成 4 维向量，其中每个元素都是 0 到 10 之间的随机数，这些值将作为泊松分布是发生率参数\n",
    "rates = torch.rand(4) * 10\n",
    "torch.poisson(rates)"
   ],
   "id": "4c111a740492884a",
   "outputs": [
    {
     "data": {
      "text/plain": [
       "tensor([6., 4., 6., 5.])"
      ]
     },
     "execution_count": 222,
     "metadata": {},
     "output_type": "execute_result"
    }
   ],
   "execution_count": 222
  },
  {
   "metadata": {},
   "cell_type": "markdown",
   "source": [
    "#### 均匀分布\n",
    "\n",
    "均匀分布（Uniform Distribution）是一种连续概率分布，它在某个区间内的任意子区间上发生的概率是相等的。也就是说，这个区间内的任何值都有相同的概率被选中"
   ],
   "id": "5b8c57af6afea7cc"
  },
  {
   "metadata": {
    "ExecuteTime": {
     "end_time": "2024-09-30T06:58:04.344774Z",
     "start_time": "2024-09-30T06:58:04.339024Z"
    }
   },
   "cell_type": "code",
   "source": [
    "# 均匀分布\n",
    "torch.rand(4)"
   ],
   "id": "872c1e60b39c4fef",
   "outputs": [
    {
     "data": {
      "text/plain": [
       "tensor([0.3807, 0.8422, 0.8857, 0.6314])"
      ]
     },
     "execution_count": 227,
     "metadata": {},
     "output_type": "execute_result"
    }
   ],
   "execution_count": 227
  },
  {
   "metadata": {},
   "cell_type": "markdown",
   "source": ">`shape` 是一个张量形状元组。在以上脚本中，它决定了输出张量的形状，通常在神经网络计算中，张量的第一个维度是 batch size（批次大小）",
   "id": "400085246dc490d9"
  },
  {
   "metadata": {},
   "cell_type": "markdown",
   "source": [
    "## 张量的属性\n",
    "\n",
    "张量属性描述了它们的形状、数据类型以及存储它们的设备"
   ],
   "id": "f0a667a652cde167"
  },
  {
   "metadata": {
    "ExecuteTime": {
     "end_time": "2024-09-30T05:00:27.521077Z",
     "start_time": "2024-09-30T05:00:27.517358Z"
    }
   },
   "cell_type": "code",
   "source": [
    "tensor = torch.rand(3,4)\n",
    "\n",
    "print(f\"Shape of tensor: {tensor.shape}\")\n",
    "print(f\"Datatype of tensor: {tensor.dtype}\")\n",
    "print(f\"Device tensor is stored on: {tensor.device}\")"
   ],
   "id": "1aac568aacdb889e",
   "outputs": [
    {
     "name": "stdout",
     "output_type": "stream",
     "text": [
      "Shape of tensor: torch.Size([3, 4])\n",
      "Datatype of tensor: torch.float32\n",
      "Device tensor is stored on: cpu\n"
     ]
    }
   ],
   "execution_count": 42
  },
  {
   "metadata": {},
   "cell_type": "markdown",
   "source": [
    "## 张量上的运算\n",
    "\n",
    "张量支持超过 100 种运算，包括算术、线性代数、矩阵操作（转置、索引、切片）、采样等等\n",
    "\n",
    "## 张量的方法\n",
    "\n",
    "| 操作                   | 注释                                                                                                         |\n",
    "|:---------------------|:-----------------------------------------------------------------------------------------------------------|\n",
    "| `is_tensor`          | 如果 obj 是 PyTorch 张量，则返回 True                                                                               |\n",
    "| `is_storage`         | 如果 obj 是 PyTorch 存储对象，则返回 True                                                                             |\n",
    "| `is_complex`         | 如果 `input` 的数据类型是复数数据类型，即 `torch.complex64` 和 `torch.complex128` 中的一种，则返回 True                             |\n",
    "| `is_conj`            | 如果 `input` 是共轭张量，即其共轭位设置为 True，则返回 True                                                                    |\n",
    "| `is_floating_point`  | 如果 `input` 的数据类型是浮点数据类型，即 `torch.float64`、`torch.float32`、`torch.float16` 和 `torch.bfloat16` 中的一种，则返回 True |\n",
    "| `is_nonzero`         | 如果 `input` 是一个单元素张量，并且在类型转换后不等于零，则返回 True                                                                  |\n",
    "| `set_default_dtype`  | 将默认浮点数据类型设置为 `d`                                                                                           |\n",
    "| `get_default_dtype`  | 获取当前默认浮点 `torch.dtype`                                                                                     |\n",
    "| `set_default_device` | 设置要在 `device` 上分配的默认 `torch.Tensor`                                                                        |\n",
    "| `get_default_device` | 获取要在 `device` 上分配的默认 `torch.Tensor`                                                                        |\n",
    "| `numel`              | 返回 `input` 张量中的元素总数                                                                                        |\n",
    "| `set_printoptions`   | 设置打印选项                                                                                                     |\n",
    "| `set_flush_denormal` | 在 CPU 上禁用非规格化浮点数                                                                                           |\n",
    "\n",
    "默认情况下，张量是在 CPU 上创建的。我们需要使用 .to 方法（在检查 GPU 可用性之后）将张量显式移动到 GPU。\n",
    "\n",
    ">跨设备复制大型张量在时间和内存方面可能代价高昂"
   ],
   "id": "76e10b8474f23b50"
  },
  {
   "metadata": {
    "ExecuteTime": {
     "end_time": "2024-09-30T07:53:24.917767Z",
     "start_time": "2024-09-30T07:53:24.914145Z"
    }
   },
   "cell_type": "code",
   "source": [
    "# 张量算术运算（以向量、矩阵，的加法、乘法运算为例）\n",
    "a = torch.tensor([1,2,3])\n",
    "b = torch.tensor([4,5,6])\n",
    "a_mat = torch.tensor([[1,2,3],[3,2,1],[3,1,2]])\n",
    "b_mat = torch.tensor([[4,5,6],[6,5,4],[6,4,5]])"
   ],
   "id": "50f48cf1e2b69e13",
   "outputs": [],
   "execution_count": 290
  },
  {
   "metadata": {
    "ExecuteTime": {
     "end_time": "2024-09-30T05:00:27.573682Z",
     "start_time": "2024-09-30T05:00:27.568689Z"
    }
   },
   "cell_type": "code",
   "source": [
    "# 向量加法\n",
    "a + b"
   ],
   "id": "e8ae2dffef89ba13",
   "outputs": [
    {
     "data": {
      "text/plain": [
       "tensor([5, 7, 9])"
      ]
     },
     "execution_count": 44,
     "metadata": {},
     "output_type": "execute_result"
    }
   ],
   "execution_count": 44
  },
  {
   "metadata": {
    "ExecuteTime": {
     "end_time": "2024-09-30T05:00:27.628247Z",
     "start_time": "2024-09-30T05:00:27.623260Z"
    }
   },
   "cell_type": "code",
   "source": [
    "# 矩阵加向量\n",
    "a_mat + b"
   ],
   "id": "8a07061c095afcd0",
   "outputs": [
    {
     "data": {
      "text/plain": [
       "tensor([[5, 7, 9],\n",
       "        [7, 7, 7],\n",
       "        [7, 6, 8]])"
      ]
     },
     "execution_count": 45,
     "metadata": {},
     "output_type": "execute_result"
    }
   ],
   "execution_count": 45
  },
  {
   "metadata": {
    "ExecuteTime": {
     "end_time": "2024-09-30T05:00:27.774928Z",
     "start_time": "2024-09-30T05:00:27.769644Z"
    }
   },
   "cell_type": "code",
   "source": [
    "# 矩阵加法\n",
    "a_mat + b_mat"
   ],
   "id": "fa6734629c7e622e",
   "outputs": [
    {
     "data": {
      "text/plain": [
       "tensor([[5, 7, 9],\n",
       "        [9, 7, 5],\n",
       "        [9, 5, 7]])"
      ]
     },
     "execution_count": 46,
     "metadata": {},
     "output_type": "execute_result"
    }
   ],
   "execution_count": 46
  },
  {
   "metadata": {
    "ExecuteTime": {
     "end_time": "2024-09-30T05:01:33.420299Z",
     "start_time": "2024-09-30T05:01:33.414884Z"
    }
   },
   "cell_type": "code",
   "source": [
    "# 向量点积\n",
    "a * b"
   ],
   "id": "3858887a383465de",
   "outputs": [
    {
     "data": {
      "text/plain": [
       "tensor([ 4, 10, 18])"
      ]
     },
     "execution_count": 49,
     "metadata": {},
     "output_type": "execute_result"
    }
   ],
   "execution_count": 49
  },
  {
   "metadata": {
    "ExecuteTime": {
     "end_time": "2024-09-30T05:00:27.923448Z",
     "start_time": "2024-09-30T05:00:27.918317Z"
    }
   },
   "cell_type": "code",
   "source": [
    "# 向量叉积（叉积仅适用于三维空间中的向量）\n",
    "torch.linalg.cross(a, b)"
   ],
   "id": "91cc10b19566aa83",
   "outputs": [
    {
     "data": {
      "text/plain": [
       "tensor([-3,  6, -3])"
      ]
     },
     "execution_count": 48,
     "metadata": {},
     "output_type": "execute_result"
    }
   ],
   "execution_count": 48
  },
  {
   "metadata": {
    "ExecuteTime": {
     "end_time": "2024-09-30T07:22:22.126882Z",
     "start_time": "2024-09-30T07:22:22.122066Z"
    }
   },
   "cell_type": "code",
   "source": [
    "# 矩阵乘法\n",
    "a_mat @ b_mat"
   ],
   "id": "677d538cc55a4a48",
   "outputs": [
    {
     "data": {
      "text/plain": [
       "tensor([[34, 27, 29],\n",
       "        [30, 29, 31],\n",
       "        [30, 28, 32]])"
      ]
     },
     "execution_count": 249,
     "metadata": {},
     "output_type": "execute_result"
    }
   ],
   "execution_count": 249
  },
  {
   "metadata": {
    "ExecuteTime": {
     "end_time": "2024-09-30T05:19:53.869103Z",
     "start_time": "2024-09-30T05:19:53.784607Z"
    }
   },
   "cell_type": "code",
   "source": [
    "# 逐元素指数运算\n",
    "torch.exp(a)"
   ],
   "id": "1051a3b0feb3cbd9",
   "outputs": [
    {
     "data": {
      "text/plain": [
       "tensor([ 2.7183,  7.3891, 20.0855])"
      ]
     },
     "execution_count": 53,
     "metadata": {},
     "output_type": "execute_result"
    }
   ],
   "execution_count": 53
  },
  {
   "metadata": {
    "ExecuteTime": {
     "end_time": "2024-09-30T05:22:05.635237Z",
     "start_time": "2024-09-30T05:22:05.630676Z"
    }
   },
   "cell_type": "code",
   "source": [
    "# 逐元素对数运算\n",
    "torch.log(a)"
   ],
   "id": "10f67b5167dc8b95",
   "outputs": [
    {
     "data": {
      "text/plain": [
       "tensor([0.0000, 0.6931, 1.0986])"
      ]
     },
     "execution_count": 55,
     "metadata": {},
     "output_type": "execute_result"
    }
   ],
   "execution_count": 55
  },
  {
   "metadata": {},
   "cell_type": "markdown",
   "source": "### 其他运算",
   "id": "6d757cb198e13f12"
  },
  {
   "metadata": {
    "ExecuteTime": {
     "end_time": "2024-09-30T07:19:12.948420Z",
     "start_time": "2024-09-30T07:19:12.943552Z"
    }
   },
   "cell_type": "code",
   "source": [
    "# 连接张量（在第一个维度）\n",
    "torch.cat([a_mat, b_mat], dim=0)"
   ],
   "id": "335686841568b481",
   "outputs": [
    {
     "data": {
      "text/plain": [
       "tensor([[1, 2, 3],\n",
       "        [3, 2, 1],\n",
       "        [3, 1, 2],\n",
       "        [4, 5, 6],\n",
       "        [6, 5, 4],\n",
       "        [6, 4, 5]])"
      ]
     },
     "execution_count": 240,
     "metadata": {},
     "output_type": "execute_result"
    }
   ],
   "execution_count": 240
  },
  {
   "metadata": {
    "ExecuteTime": {
     "end_time": "2024-09-30T07:19:14.913962Z",
     "start_time": "2024-09-30T07:19:14.909292Z"
    }
   },
   "cell_type": "code",
   "source": [
    "# 连接张量（在第二个维度）\n",
    "torch.cat([a_mat, b_mat], dim=1)"
   ],
   "id": "d2f517014f1a9975",
   "outputs": [
    {
     "data": {
      "text/plain": [
       "tensor([[1, 2, 3, 4, 5, 6],\n",
       "        [3, 2, 1, 6, 5, 4],\n",
       "        [3, 1, 2, 6, 4, 5]])"
      ]
     },
     "execution_count": 241,
     "metadata": {},
     "output_type": "execute_result"
    }
   ],
   "execution_count": 241
  },
  {
   "metadata": {
    "ExecuteTime": {
     "end_time": "2024-09-30T07:21:18.200357Z",
     "start_time": "2024-09-30T07:21:18.195273Z"
    }
   },
   "cell_type": "code",
   "source": [
    "# 转置\n",
    "a_mat.T"
   ],
   "id": "79b1c05206940826",
   "outputs": [
    {
     "data": {
      "text/plain": [
       "tensor([[1, 3, 3],\n",
       "        [2, 2, 1],\n",
       "        [3, 1, 2]])"
      ]
     },
     "execution_count": 245,
     "metadata": {},
     "output_type": "execute_result"
    }
   ],
   "execution_count": 245
  },
  {
   "metadata": {},
   "cell_type": "markdown",
   "source": [
    "## 张量和 Numpy 数组的转换\n",
    "\n",
    "CPU 上的张量和 NumPy 数组可以共享它们的底层内存位置，更改其中一个将更改另一个"
   ],
   "id": "ad2985e4c4bd0c52"
  },
  {
   "metadata": {
    "ExecuteTime": {
     "end_time": "2024-09-30T07:53:28.884458Z",
     "start_time": "2024-09-30T07:53:28.878942Z"
    }
   },
   "cell_type": "code",
   "source": [
    "# 张量到 python 数组\n",
    "a_np = a_mat.numpy()\n",
    "a_np"
   ],
   "id": "f475599591612a0f",
   "outputs": [
    {
     "data": {
      "text/plain": [
       "array([[1, 2, 3],\n",
       "       [3, 2, 1],\n",
       "       [3, 1, 2]])"
      ]
     },
     "execution_count": 291,
     "metadata": {},
     "output_type": "execute_result"
    }
   ],
   "execution_count": 291
  },
  {
   "metadata": {
    "ExecuteTime": {
     "end_time": "2024-09-30T07:53:30.282274Z",
     "start_time": "2024-09-30T07:53:30.277703Z"
    }
   },
   "cell_type": "code",
   "source": [
    "# 张量的变化会反映在 ndarray 上，因为引用相同\n",
    "a_mat.add_(1)\n",
    "a_np"
   ],
   "id": "851eadc377ca07b0",
   "outputs": [
    {
     "data": {
      "text/plain": [
       "array([[2, 3, 4],\n",
       "       [4, 3, 2],\n",
       "       [4, 2, 3]])"
      ]
     },
     "execution_count": 292,
     "metadata": {},
     "output_type": "execute_result"
    }
   ],
   "execution_count": 292
  },
  {
   "metadata": {
    "ExecuteTime": {
     "end_time": "2024-09-30T07:54:24.037893Z",
     "start_time": "2024-09-30T07:54:24.010800Z"
    }
   },
   "cell_type": "code",
   "source": [
    "# ndarray 到张量\n",
    "torch.from_numpy(np.ones(5))"
   ],
   "id": "f54d83fbbccf5187",
   "outputs": [
    {
     "data": {
      "text/plain": [
       "tensor([1., 1., 1., 1., 1.], dtype=torch.float64)"
      ]
     },
     "execution_count": 293,
     "metadata": {},
     "output_type": "execute_result"
    }
   ],
   "execution_count": 293
  }
 ],
 "metadata": {
  "kernelspec": {
   "display_name": "Python 3",
   "language": "python",
   "name": "python3"
  },
  "language_info": {
   "codemirror_mode": {
    "name": "ipython",
    "version": 2
   },
   "file_extension": ".py",
   "mimetype": "text/x-python",
   "name": "python",
   "nbconvert_exporter": "python",
   "pygments_lexer": "ipython2",
   "version": "2.7.6"
  }
 },
 "nbformat": 4,
 "nbformat_minor": 5
}
