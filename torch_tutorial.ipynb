{
 "cells": [
  {
   "cell_type": "code",
   "id": "initial_id",
   "metadata": {
    "collapsed": true,
    "ExecuteTime": {
     "end_time": "2024-09-30T03:08:01.765548Z",
     "start_time": "2024-09-30T03:07:59.489941Z"
    }
   },
   "source": [
    "import torch\n",
    "from torch import nn\n",
    "from torch.utils.data import DataLoader\n",
    "from torchvision import datasets\n",
    "from torchvision.transforms import ToTensor"
   ],
   "outputs": [],
   "execution_count": 1
  },
  {
   "metadata": {
    "ExecuteTime": {
     "end_time": "2024-09-30T03:08:41.694368Z",
     "start_time": "2024-09-30T03:08:04.085633Z"
    }
   },
   "cell_type": "code",
   "source": [
    "# Download training data from open datasets.\n",
    "training_data = datasets.FashionMNIST(\n",
    "    root=\"data\",\n",
    "    train=True,\n",
    "    download=True,\n",
    "    transform=ToTensor(),\n",
    ")\n",
    "\n",
    "# Download test data from open datasets.\n",
    "test_data = datasets.FashionMNIST(\n",
    "    root=\"data\",\n",
    "    train=False,\n",
    "    download=True,\n",
    "    transform=ToTensor(),\n",
    ")"
   ],
   "id": "5458a521cc9d1c28",
   "outputs": [
    {
     "name": "stdout",
     "output_type": "stream",
     "text": [
      "Downloading http://fashion-mnist.s3-website.eu-central-1.amazonaws.com/train-images-idx3-ubyte.gz\n",
      "Downloading http://fashion-mnist.s3-website.eu-central-1.amazonaws.com/train-images-idx3-ubyte.gz to data\\FashionMNIST\\raw\\train-images-idx3-ubyte.gz\n"
     ]
    },
    {
     "name": "stderr",
     "output_type": "stream",
     "text": [
      "100%|██████████| 26421880/26421880 [00:24<00:00, 1079139.61it/s]\n"
     ]
    },
    {
     "name": "stdout",
     "output_type": "stream",
     "text": [
      "Extracting data\\FashionMNIST\\raw\\train-images-idx3-ubyte.gz to data\\FashionMNIST\\raw\n",
      "\n",
      "Downloading http://fashion-mnist.s3-website.eu-central-1.amazonaws.com/train-labels-idx1-ubyte.gz\n",
      "Downloading http://fashion-mnist.s3-website.eu-central-1.amazonaws.com/train-labels-idx1-ubyte.gz to data\\FashionMNIST\\raw\\train-labels-idx1-ubyte.gz\n"
     ]
    },
    {
     "name": "stderr",
     "output_type": "stream",
     "text": [
      "100%|██████████| 29515/29515 [00:00<00:00, 125955.14it/s]\n"
     ]
    },
    {
     "name": "stdout",
     "output_type": "stream",
     "text": [
      "Extracting data\\FashionMNIST\\raw\\train-labels-idx1-ubyte.gz to data\\FashionMNIST\\raw\n",
      "\n",
      "Downloading http://fashion-mnist.s3-website.eu-central-1.amazonaws.com/t10k-images-idx3-ubyte.gz\n",
      "Downloading http://fashion-mnist.s3-website.eu-central-1.amazonaws.com/t10k-images-idx3-ubyte.gz to data\\FashionMNIST\\raw\\t10k-images-idx3-ubyte.gz\n"
     ]
    },
    {
     "name": "stderr",
     "output_type": "stream",
     "text": [
      "100%|██████████| 4422102/4422102 [00:07<00:00, 555835.76it/s] \n"
     ]
    },
    {
     "name": "stdout",
     "output_type": "stream",
     "text": [
      "Extracting data\\FashionMNIST\\raw\\t10k-images-idx3-ubyte.gz to data\\FashionMNIST\\raw\n",
      "\n",
      "Downloading http://fashion-mnist.s3-website.eu-central-1.amazonaws.com/t10k-labels-idx1-ubyte.gz\n",
      "Downloading http://fashion-mnist.s3-website.eu-central-1.amazonaws.com/t10k-labels-idx1-ubyte.gz to data\\FashionMNIST\\raw\\t10k-labels-idx1-ubyte.gz\n"
     ]
    },
    {
     "name": "stderr",
     "output_type": "stream",
     "text": [
      "100%|██████████| 5148/5148 [00:00<?, ?it/s]"
     ]
    },
    {
     "name": "stdout",
     "output_type": "stream",
     "text": [
      "Extracting data\\FashionMNIST\\raw\\t10k-labels-idx1-ubyte.gz to data\\FashionMNIST\\raw\n",
      "\n"
     ]
    },
    {
     "name": "stderr",
     "output_type": "stream",
     "text": [
      "\n"
     ]
    }
   ],
   "execution_count": 2
  },
  {
   "metadata": {
    "ExecuteTime": {
     "end_time": "2024-09-30T03:11:13.173246Z",
     "start_time": "2024-09-30T03:11:13.157294Z"
    }
   },
   "cell_type": "code",
   "source": [
    "batch_size = 64\n",
    "\n",
    "# Create data loaders.\n",
    "train_dataloader = DataLoader(training_data, batch_size=batch_size)\n",
    "test_dataloader = DataLoader(test_data, batch_size=batch_size)\n",
    "\n",
    "for X, y in test_dataloader:\n",
    "    print(f\"Shape of X [N, C, H, W]: {X.shape}\")\n",
    "    print(f\"Shape of y: {y.shape} {y.dtype}\")\n",
    "    break"
   ],
   "id": "cda8fb54dbaefff6",
   "outputs": [
    {
     "name": "stdout",
     "output_type": "stream",
     "text": [
      "Shape of X [N, C, H, W]: torch.Size([64, 1, 28, 28])\n",
      "Shape of y: torch.Size([64]) torch.int64\n"
     ]
    }
   ],
   "execution_count": 3
  },
  {
   "metadata": {
    "ExecuteTime": {
     "end_time": "2024-09-30T03:15:28.154393Z",
     "start_time": "2024-09-30T03:15:28.141273Z"
    }
   },
   "cell_type": "code",
   "source": [
    "# Get cpu, gpu or mps device for training.\n",
    "device = (\n",
    "    \"cuda\"\n",
    "    if torch.cuda.is_available()\n",
    "    else \"mps\"\n",
    "    if torch.backends.mps.is_available()\n",
    "    else \"cpu\"\n",
    ")\n",
    "print(f\"Using {device} device\")\n",
    "\n",
    "# Define model\n",
    "class NeuralNetwork(nn.Module):\n",
    "    def __init__(self):\n",
    "        super().__init__()\n",
    "        self.flatten = nn.Flatten()\n",
    "        self.linear_relu_stack = nn.Sequential(\n",
    "            nn.Linear(28*28, 512),\n",
    "            nn.ReLU(),\n",
    "            nn.Linear(512, 512),\n",
    "            nn.ReLU(),\n",
    "            nn.Linear(512, 10)\n",
    "        )\n",
    "\n",
    "    def forward(self, x):\n",
    "        x = self.flatten(x)\n",
    "        logits = self.linear_relu_stack(x)\n",
    "        return logits\n",
    "\n",
    "model = NeuralNetwork().to(device)\n",
    "print(model)"
   ],
   "id": "bb62687ef223ec4c",
   "outputs": [
    {
     "name": "stdout",
     "output_type": "stream",
     "text": [
      "Using cpu device\n",
      "NeuralNetwork(\n",
      "  (flatten): Flatten(start_dim=1, end_dim=-1)\n",
      "  (linear_relu_stack): Sequential(\n",
      "    (0): Linear(in_features=784, out_features=512, bias=True)\n",
      "    (1): ReLU()\n",
      "    (2): Linear(in_features=512, out_features=512, bias=True)\n",
      "    (3): ReLU()\n",
      "    (4): Linear(in_features=512, out_features=10, bias=True)\n",
      "  )\n",
      ")\n"
     ]
    }
   ],
   "execution_count": 4
  },
  {
   "metadata": {
    "ExecuteTime": {
     "end_time": "2024-09-30T03:17:15.054367Z",
     "start_time": "2024-09-30T03:17:15.050547Z"
    }
   },
   "cell_type": "code",
   "source": [
    "loss_fn = nn.CrossEntropyLoss()\n",
    "optimizer = torch.optim.SGD(model.parameters(), lr=1e-3)"
   ],
   "id": "57a53f5731c7e559",
   "outputs": [],
   "execution_count": 5
  },
  {
   "metadata": {
    "ExecuteTime": {
     "end_time": "2024-09-30T03:22:58.940968Z",
     "start_time": "2024-09-30T03:22:58.934933Z"
    }
   },
   "cell_type": "code",
   "source": [
    "# noinspection PyShadowingNames\n",
    "def train(dataloader, model, loss_fn, optimizer):\n",
    "    size = len(dataloader.dataset)\n",
    "    model.train()\n",
    "    for batch, (x, y) in enumerate(dataloader):\n",
    "        x, y = x.to(device), y.to(device)\n",
    "        # Compute prediction error\n",
    "        pred = model(x)\n",
    "        loss = loss_fn(pred, y)\n",
    "\n",
    "        # Backpropagation\n",
    "        loss.backward()\n",
    "        optimizer.step()\n",
    "        optimizer.zero_grad()\n",
    "\n",
    "        if batch % 100 == 0:\n",
    "            loss, current = loss.item(), (batch + 1) * len(x)\n",
    "            print(f\"loss: {loss:>7f}  [{current:>5d}/{size:>5d}]\")\n",
    "            \n",
    "            \n",
    "# noinspection PyShadowingNames\n",
    "def test(dataloader, model, loss_fn):\n",
    "    size = len(dataloader.dataset)\n",
    "    num_batches = len(dataloader)\n",
    "    # enable eval mode\n",
    "    model.eval()\n",
    "    test_loss, correct = 0, 0\n",
    "    # freeze gradient descent\n",
    "    with torch.no_grad():\n",
    "        for x, y in dataloader:\n",
    "            x, y = x.to(device), y.to(device)\n",
    "            pred = model(x)\n",
    "            test_loss += loss_fn(pred, y).item()\n",
    "            correct += (pred.argmax(1) == y).type(torch.float).sum().item()\n",
    "    test_loss /= num_batches\n",
    "    correct /= size\n",
    "    print(f\"Test Error: \\n Accuracy: {(100*correct):>0.1f}%, Avg loss: {test_loss:>8f} \\n\")"
   ],
   "id": "73b634c08a194f30",
   "outputs": [],
   "execution_count": 7
  },
  {
   "metadata": {
    "ExecuteTime": {
     "end_time": "2024-09-30T03:31:49.430300Z",
     "start_time": "2024-09-30T03:30:13.234616Z"
    }
   },
   "cell_type": "code",
   "source": [
    "epochs = 10\n",
    "for t in range(epochs):\n",
    "    print(f\"Epoch {t+1}\\n-------------------------------\")\n",
    "    train(train_dataloader, model, loss_fn, optimizer)\n",
    "    test(test_dataloader, model, loss_fn)\n",
    "print(\"Done!\")"
   ],
   "id": "e972dad988e5f857",
   "outputs": [
    {
     "name": "stdout",
     "output_type": "stream",
     "text": [
      "Epoch 1\n",
      "-------------------------------\n",
      "loss: 1.157875  [   64/60000]\n",
      "loss: 1.160280  [ 6464/60000]\n",
      "loss: 0.976364  [12864/60000]\n",
      "loss: 1.113079  [19264/60000]\n",
      "loss: 0.978371  [25664/60000]\n",
      "loss: 1.019777  [32064/60000]\n",
      "loss: 1.053219  [38464/60000]\n",
      "loss: 0.990824  [44864/60000]\n",
      "loss: 1.031162  [51264/60000]\n",
      "loss: 0.967790  [57664/60000]\n",
      "Test Error: \n",
      " Accuracy: 66.1%, Avg loss: 0.980157 \n",
      "\n",
      "Epoch 2\n",
      "-------------------------------\n",
      "loss: 1.039282  [   64/60000]\n",
      "loss: 1.063411  [ 6464/60000]\n",
      "loss: 0.860884  [12864/60000]\n",
      "loss: 1.020649  [19264/60000]\n",
      "loss: 0.892471  [25664/60000]\n",
      "loss: 0.926080  [32064/60000]\n",
      "loss: 0.977629  [38464/60000]\n",
      "loss: 0.914420  [44864/60000]\n",
      "loss: 0.952958  [51264/60000]\n",
      "loss: 0.903485  [57664/60000]\n",
      "Test Error: \n",
      " Accuracy: 67.5%, Avg loss: 0.907675 \n",
      "\n",
      "Epoch 3\n",
      "-------------------------------\n",
      "loss: 0.950832  [   64/60000]\n",
      "loss: 0.995803  [ 6464/60000]\n",
      "loss: 0.777584  [12864/60000]\n",
      "loss: 0.955012  [19264/60000]\n",
      "loss: 0.834814  [25664/60000]\n",
      "loss: 0.856665  [32064/60000]\n",
      "loss: 0.923890  [38464/60000]\n",
      "loss: 0.862441  [44864/60000]\n",
      "loss: 0.895945  [51264/60000]\n",
      "loss: 0.857088  [57664/60000]\n",
      "Test Error: \n",
      " Accuracy: 69.1%, Avg loss: 0.855020 \n",
      "\n",
      "Epoch 4\n",
      "-------------------------------\n",
      "loss: 0.882078  [   64/60000]\n",
      "loss: 0.944796  [ 6464/60000]\n",
      "loss: 0.714864  [12864/60000]\n",
      "loss: 0.905758  [19264/60000]\n",
      "loss: 0.793218  [25664/60000]\n",
      "loss: 0.804169  [32064/60000]\n",
      "loss: 0.882589  [38464/60000]\n",
      "loss: 0.825559  [44864/60000]\n",
      "loss: 0.853002  [51264/60000]\n",
      "loss: 0.821291  [57664/60000]\n",
      "Test Error: \n",
      " Accuracy: 70.3%, Avg loss: 0.814819 \n",
      "\n",
      "Epoch 5\n",
      "-------------------------------\n",
      "loss: 0.826796  [   64/60000]\n",
      "loss: 0.903599  [ 6464/60000]\n",
      "loss: 0.665982  [12864/60000]\n",
      "loss: 0.867398  [19264/60000]\n",
      "loss: 0.760968  [25664/60000]\n",
      "loss: 0.763572  [32064/60000]\n",
      "loss: 0.848784  [38464/60000]\n",
      "loss: 0.798012  [44864/60000]\n",
      "loss: 0.819700  [51264/60000]\n",
      "loss: 0.792493  [57664/60000]\n",
      "Test Error: \n",
      " Accuracy: 71.5%, Avg loss: 0.782791 \n",
      "\n",
      "Epoch 6\n",
      "-------------------------------\n",
      "loss: 0.781159  [   64/60000]\n",
      "loss: 0.868404  [ 6464/60000]\n",
      "loss: 0.626861  [12864/60000]\n",
      "loss: 0.836664  [19264/60000]\n",
      "loss: 0.734851  [25664/60000]\n",
      "loss: 0.731640  [32064/60000]\n",
      "loss: 0.819795  [38464/60000]\n",
      "loss: 0.776272  [44864/60000]\n",
      "loss: 0.793174  [51264/60000]\n",
      "loss: 0.768518  [57664/60000]\n",
      "Test Error: \n",
      " Accuracy: 72.5%, Avg loss: 0.756230 \n",
      "\n",
      "Epoch 7\n",
      "-------------------------------\n",
      "loss: 0.742416  [   64/60000]\n",
      "loss: 0.837368  [ 6464/60000]\n",
      "loss: 0.594662  [12864/60000]\n",
      "loss: 0.811269  [19264/60000]\n",
      "loss: 0.712833  [25664/60000]\n",
      "loss: 0.706204  [32064/60000]\n",
      "loss: 0.793839  [38464/60000]\n",
      "loss: 0.758205  [44864/60000]\n",
      "loss: 0.771376  [51264/60000]\n",
      "loss: 0.747975  [57664/60000]\n",
      "Test Error: \n",
      " Accuracy: 73.6%, Avg loss: 0.733449 \n",
      "\n",
      "Epoch 8\n",
      "-------------------------------\n",
      "loss: 0.709161  [   64/60000]\n",
      "loss: 0.809448  [ 6464/60000]\n",
      "loss: 0.567481  [12864/60000]\n",
      "loss: 0.789919  [19264/60000]\n",
      "loss: 0.693882  [25664/60000]\n",
      "loss: 0.685490  [32064/60000]\n",
      "loss: 0.770188  [38464/60000]\n",
      "loss: 0.742636  [44864/60000]\n",
      "loss: 0.752875  [51264/60000]\n",
      "loss: 0.729936  [57664/60000]\n",
      "Test Error: \n",
      " Accuracy: 74.5%, Avg loss: 0.713410 \n",
      "\n",
      "Epoch 9\n",
      "-------------------------------\n",
      "loss: 0.680271  [   64/60000]\n",
      "loss: 0.783948  [ 6464/60000]\n",
      "loss: 0.544113  [12864/60000]\n",
      "loss: 0.771482  [19264/60000]\n",
      "loss: 0.677274  [25664/60000]\n",
      "loss: 0.668194  [32064/60000]\n",
      "loss: 0.748345  [38464/60000]\n",
      "loss: 0.728917  [44864/60000]\n",
      "loss: 0.736817  [51264/60000]\n",
      "loss: 0.713714  [57664/60000]\n",
      "Test Error: \n",
      " Accuracy: 75.5%, Avg loss: 0.695464 \n",
      "\n",
      "Epoch 10\n",
      "-------------------------------\n",
      "loss: 0.654767  [   64/60000]\n",
      "loss: 0.760545  [ 6464/60000]\n",
      "loss: 0.523793  [12864/60000]\n",
      "loss: 0.755188  [19264/60000]\n",
      "loss: 0.662626  [25664/60000]\n",
      "loss: 0.653577  [32064/60000]\n",
      "loss: 0.728077  [38464/60000]\n",
      "loss: 0.716669  [44864/60000]\n",
      "loss: 0.722809  [51264/60000]\n",
      "loss: 0.698938  [57664/60000]\n",
      "Test Error: \n",
      " Accuracy: 76.2%, Avg loss: 0.679209 \n",
      "\n",
      "Done!\n"
     ]
    }
   ],
   "execution_count": 9
  },
  {
   "metadata": {},
   "cell_type": "markdown",
   "source": [
    "# pytorch 保存模型\n",
    "\n",
    "在PyTorch中，保存模型通常有两种主要方式：保存整个模型和保存模型的状态字典（state dictionary）\n",
    "\n",
    "- ## 保存整个模型\n",
    "\n",
    "    保存整个模型意味着将模型的结构和参数一起保存到一个文件中。这种方法简单直观，但缺点是保存的文件可能会包含一些不必要的信息（如优化器状态），并且加载模型时需要有相同的模型类定义\n",
    "    \n",
    "    ```python\n",
    "    # 保存模型\n",
    "    torch.save(model, 'model.pth')\n",
    "  \n",
    "    # 加载模型\n",
    "    model = torch.load('model.pth')\n",
    "    model.eval()  # 设置为评估模式\n",
    "    ```\n",
    "\n",
    "- ## 保存状态字典\n",
    "    \n",
    "    状态字典包含了模型的参数，不包含模型的结构。这种方法更加灵活，可以轻松地在不同的模型结构之间迁移参数\n",
    "    \n",
    "    ```python\n",
    "    # 保存模型的状态字典\n",
    "    torch.save(model.state_dict(), 'model_state_dict.pth')\n",
    "    \n",
    "    # 加载模型的状态字典\n",
    "    model = MyModel()  # 需要先实例化模型\n",
    "    model.load_state_dict(torch.load('model_state_dict.pth'))\n",
    "    model.eval()  # 设置为评估模式\n",
    "    ```\n",
    "  \n",
    "- ## 加载模型\n",
    "\n",
    "    加载模型时，可以指定设备，以确保模型参数在正确的设备上\n",
    "    \n",
    "    ```python\n",
    "    model.load_state_dict(torch.load('model_state_dict.pth', map_location=torch.device('cpu')))\n",
    "    ```\n"
   ],
   "id": "4b75dab31378b3de"
  },
  {
   "metadata": {
    "ExecuteTime": {
     "end_time": "2024-09-30T03:41:30.498919Z",
     "start_time": "2024-09-30T03:41:30.484413Z"
    }
   },
   "cell_type": "code",
   "source": [
    "torch.save(model.state_dict(), \"./model/fashion_mnist.pth\")\n",
    "print(\"Saved PyTorch Model State to ./model/fashion_mnist.pth\")"
   ],
   "id": "33d8bf843d056852",
   "outputs": [
    {
     "name": "stdout",
     "output_type": "stream",
     "text": [
      "Saved PyTorch Model State to ./model/fashion_mnist.pth\n"
     ]
    }
   ],
   "execution_count": 14
  },
  {
   "metadata": {},
   "cell_type": "code",
   "outputs": [],
   "execution_count": null,
   "source": [
    "model = NeuralNetwork().to(device)\n",
    "model.load_state_dict(torch.load(\"./model/fashion_mnist.pth\"))"
   ],
   "id": "b7eb5e61e4e00116"
  }
 ],
 "metadata": {
  "kernelspec": {
   "display_name": "Python 3",
   "language": "python",
   "name": "python3"
  },
  "language_info": {
   "codemirror_mode": {
    "name": "ipython",
    "version": 2
   },
   "file_extension": ".py",
   "mimetype": "text/x-python",
   "name": "python",
   "nbconvert_exporter": "python",
   "pygments_lexer": "ipython2",
   "version": "2.7.6"
  }
 },
 "nbformat": 4,
 "nbformat_minor": 5
}
