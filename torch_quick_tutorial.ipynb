{
 "cells": [
  {
   "metadata": {},
   "cell_type": "markdown",
   "source": [
    "# Pytorch 快速上手\n",
    "\n",
    "以 FashionMNIST 服饰分类模型为例"
   ],
   "id": "a27a42a8d1d9c881"
  },
  {
   "cell_type": "code",
   "id": "initial_id",
   "metadata": {
    "collapsed": true,
    "ExecuteTime": {
     "end_time": "2024-09-30T03:54:34.767139Z",
     "start_time": "2024-09-30T03:54:34.763592Z"
    }
   },
   "source": [
    "import torch\n",
    "from torch import nn\n",
    "from torch.utils.data import DataLoader\n",
    "from torchvision import datasets\n",
    "from torchvision.transforms import ToTensor"
   ],
   "outputs": [],
   "execution_count": 20
  },
  {
   "metadata": {
    "ExecuteTime": {
     "end_time": "2024-09-30T03:54:34.853162Z",
     "start_time": "2024-09-30T03:54:34.794373Z"
    }
   },
   "cell_type": "code",
   "source": [
    "# Download training data from open datasets.\n",
    "training_data = datasets.FashionMNIST(\n",
    "    root=\"data\",\n",
    "    train=True,\n",
    "    download=True,\n",
    "    transform=ToTensor(),\n",
    ")\n",
    "\n",
    "# Download test data from open datasets.\n",
    "test_data = datasets.FashionMNIST(\n",
    "    root=\"data\",\n",
    "    train=False,\n",
    "    download=True,\n",
    "    transform=ToTensor(),\n",
    ")"
   ],
   "id": "5458a521cc9d1c28",
   "outputs": [],
   "execution_count": 21
  },
  {
   "metadata": {
    "ExecuteTime": {
     "end_time": "2024-09-30T03:54:34.892009Z",
     "start_time": "2024-09-30T03:54:34.869136Z"
    }
   },
   "cell_type": "code",
   "source": [
    "batch_size = 64\n",
    "\n",
    "# Create data loaders.\n",
    "train_dataloader = DataLoader(training_data, batch_size=batch_size)\n",
    "test_dataloader = DataLoader(test_data, batch_size=batch_size)\n",
    "\n",
    "for X, y in test_dataloader:\n",
    "    print(f\"Shape of X [N, C, H, W]: {X.shape}\")\n",
    "    print(f\"Shape of y: {y.shape} {y.dtype}\")\n",
    "    break"
   ],
   "id": "cda8fb54dbaefff6",
   "outputs": [
    {
     "name": "stdout",
     "output_type": "stream",
     "text": [
      "Shape of X [N, C, H, W]: torch.Size([64, 1, 28, 28])\n",
      "Shape of y: torch.Size([64]) torch.int64\n"
     ]
    }
   ],
   "execution_count": 22
  },
  {
   "metadata": {
    "ExecuteTime": {
     "end_time": "2024-09-30T03:54:34.919076Z",
     "start_time": "2024-09-30T03:54:34.906746Z"
    }
   },
   "cell_type": "code",
   "source": [
    "# Get cpu, gpu or mps device for training.\n",
    "device = (\n",
    "    \"cuda\"\n",
    "    if torch.cuda.is_available()\n",
    "    else \"mps\"\n",
    "    if torch.backends.mps.is_available()\n",
    "    else \"cpu\"\n",
    ")\n",
    "print(f\"Using {device} device\")\n",
    "\n",
    "# Define model\n",
    "class NeuralNetwork(nn.Module):\n",
    "    def __init__(self):\n",
    "        super().__init__()\n",
    "        self.flatten = nn.Flatten()\n",
    "        self.linear_relu_stack = nn.Sequential(\n",
    "            nn.Linear(28*28, 512),\n",
    "            nn.ReLU(),\n",
    "            nn.Linear(512, 512),\n",
    "            nn.ReLU(),\n",
    "            nn.Linear(512, 10)\n",
    "        )\n",
    "\n",
    "    def forward(self, x):\n",
    "        x = self.flatten(x)\n",
    "        logits = self.linear_relu_stack(x)\n",
    "        return logits\n",
    "\n",
    "model = NeuralNetwork().to(device)\n",
    "print(model)"
   ],
   "id": "bb62687ef223ec4c",
   "outputs": [
    {
     "name": "stdout",
     "output_type": "stream",
     "text": [
      "Using cpu device\n",
      "NeuralNetwork(\n",
      "  (flatten): Flatten(start_dim=1, end_dim=-1)\n",
      "  (linear_relu_stack): Sequential(\n",
      "    (0): Linear(in_features=784, out_features=512, bias=True)\n",
      "    (1): ReLU()\n",
      "    (2): Linear(in_features=512, out_features=512, bias=True)\n",
      "    (3): ReLU()\n",
      "    (4): Linear(in_features=512, out_features=10, bias=True)\n",
      "  )\n",
      ")\n"
     ]
    }
   ],
   "execution_count": 23
  },
  {
   "metadata": {
    "ExecuteTime": {
     "end_time": "2024-09-30T03:54:35.020544Z",
     "start_time": "2024-09-30T03:54:35.016279Z"
    }
   },
   "cell_type": "code",
   "source": [
    "loss_fn = nn.CrossEntropyLoss()\n",
    "optimizer = torch.optim.SGD(model.parameters(), lr=1e-3)"
   ],
   "id": "57a53f5731c7e559",
   "outputs": [],
   "execution_count": 24
  },
  {
   "metadata": {
    "ExecuteTime": {
     "end_time": "2024-09-30T03:54:35.051125Z",
     "start_time": "2024-09-30T03:54:35.045117Z"
    }
   },
   "cell_type": "code",
   "source": [
    "# noinspection PyShadowingNames\n",
    "def train(dataloader, model, loss_fn, optimizer):\n",
    "    size = len(dataloader.dataset)\n",
    "    model.train()\n",
    "    for batch, (x, y) in enumerate(dataloader):\n",
    "        x, y = x.to(device), y.to(device)\n",
    "        # Compute prediction error\n",
    "        pred = model(x)\n",
    "        loss = loss_fn(pred, y)\n",
    "\n",
    "        # Backpropagation\n",
    "        loss.backward()\n",
    "        optimizer.step()\n",
    "        optimizer.zero_grad()\n",
    "\n",
    "        if batch % 100 == 0:\n",
    "            loss, current = loss.item(), (batch + 1) * len(x)\n",
    "            print(f\"loss: {loss:>7f}  [{current:>5d}/{size:>5d}]\")\n",
    "            \n",
    "            \n",
    "# noinspection PyShadowingNames\n",
    "def test(dataloader, model, loss_fn):\n",
    "    size = len(dataloader.dataset)\n",
    "    num_batches = len(dataloader)\n",
    "    # enable eval mode\n",
    "    model.eval()\n",
    "    test_loss, correct = 0, 0\n",
    "    # freeze gradient descent\n",
    "    with torch.no_grad():\n",
    "        for x, y in dataloader:\n",
    "            x, y = x.to(device), y.to(device)\n",
    "            pred = model(x)\n",
    "            test_loss += loss_fn(pred, y).item()\n",
    "            correct += (pred.argmax(1) == y).type(torch.float).sum().item()\n",
    "    test_loss /= num_batches\n",
    "    correct /= size\n",
    "    print(f\"Test Error: \\n Accuracy: {(100*correct):>0.1f}%, Avg loss: {test_loss:>8f} \\n\")"
   ],
   "id": "73b634c08a194f30",
   "outputs": [],
   "execution_count": 25
  },
  {
   "metadata": {
    "ExecuteTime": {
     "end_time": "2024-09-30T03:56:07.931290Z",
     "start_time": "2024-09-30T03:54:35.092772Z"
    }
   },
   "cell_type": "code",
   "source": [
    "epochs = 10\n",
    "for t in range(epochs):\n",
    "    print(f\"Epoch {t+1}\\n-------------------------------\")\n",
    "    train(train_dataloader, model, loss_fn, optimizer)\n",
    "    test(test_dataloader, model, loss_fn)\n",
    "print(\"Done!\")"
   ],
   "id": "e972dad988e5f857",
   "outputs": [
    {
     "name": "stdout",
     "output_type": "stream",
     "text": [
      "Epoch 1\n",
      "-------------------------------\n",
      "loss: 2.309470  [   64/60000]\n",
      "loss: 2.299921  [ 6464/60000]\n",
      "loss: 2.278701  [12864/60000]\n",
      "loss: 2.270685  [19264/60000]\n",
      "loss: 2.252063  [25664/60000]\n",
      "loss: 2.220900  [32064/60000]\n",
      "loss: 2.233458  [38464/60000]\n",
      "loss: 2.201101  [44864/60000]\n",
      "loss: 2.205760  [51264/60000]\n",
      "loss: 2.170005  [57664/60000]\n",
      "Test Error: \n",
      " Accuracy: 40.4%, Avg loss: 2.163715 \n",
      "\n",
      "Epoch 2\n",
      "-------------------------------\n",
      "loss: 2.175881  [   64/60000]\n",
      "loss: 2.167834  [ 6464/60000]\n",
      "loss: 2.114469  [12864/60000]\n",
      "loss: 2.129708  [19264/60000]\n",
      "loss: 2.074502  [25664/60000]\n",
      "loss: 2.018675  [32064/60000]\n",
      "loss: 2.047115  [38464/60000]\n",
      "loss: 1.974840  [44864/60000]\n",
      "loss: 1.989403  [51264/60000]\n",
      "loss: 1.917152  [57664/60000]\n",
      "Test Error: \n",
      " Accuracy: 55.2%, Avg loss: 1.911286 \n",
      "\n",
      "Epoch 3\n",
      "-------------------------------\n",
      "loss: 1.941716  [   64/60000]\n",
      "loss: 1.913897  [ 6464/60000]\n",
      "loss: 1.803011  [12864/60000]\n",
      "loss: 1.845849  [19264/60000]\n",
      "loss: 1.728858  [25664/60000]\n",
      "loss: 1.682594  [32064/60000]\n",
      "loss: 1.704388  [38464/60000]\n",
      "loss: 1.610171  [44864/60000]\n",
      "loss: 1.643676  [51264/60000]\n",
      "loss: 1.532475  [57664/60000]\n",
      "Test Error: \n",
      " Accuracy: 59.8%, Avg loss: 1.548650 \n",
      "\n",
      "Epoch 4\n",
      "-------------------------------\n",
      "loss: 1.611074  [   64/60000]\n",
      "loss: 1.577718  [ 6464/60000]\n",
      "loss: 1.429284  [12864/60000]\n",
      "loss: 1.501298  [19264/60000]\n",
      "loss: 1.375771  [25664/60000]\n",
      "loss: 1.371627  [32064/60000]\n",
      "loss: 1.379522  [38464/60000]\n",
      "loss: 1.312240  [44864/60000]\n",
      "loss: 1.352556  [51264/60000]\n",
      "loss: 1.240115  [57664/60000]\n",
      "Test Error: \n",
      " Accuracy: 63.0%, Avg loss: 1.272565 \n",
      "\n",
      "Epoch 5\n",
      "-------------------------------\n",
      "loss: 1.347891  [   64/60000]\n",
      "loss: 1.330646  [ 6464/60000]\n",
      "loss: 1.166264  [12864/60000]\n",
      "loss: 1.268503  [19264/60000]\n",
      "loss: 1.139664  [25664/60000]\n",
      "loss: 1.165299  [32064/60000]\n",
      "loss: 1.177212  [38464/60000]\n",
      "loss: 1.125888  [44864/60000]\n",
      "loss: 1.167870  [51264/60000]\n",
      "loss: 1.071076  [57664/60000]\n",
      "Test Error: \n",
      " Accuracy: 64.5%, Avg loss: 1.100520 \n",
      "\n",
      "Epoch 6\n",
      "-------------------------------\n",
      "loss: 1.170529  [   64/60000]\n",
      "loss: 1.174141  [ 6464/60000]\n",
      "loss: 0.992576  [12864/60000]\n",
      "loss: 1.124884  [19264/60000]\n",
      "loss: 0.993345  [25664/60000]\n",
      "loss: 1.027722  [32064/60000]\n",
      "loss: 1.054336  [38464/60000]\n",
      "loss: 1.007041  [44864/60000]\n",
      "loss: 1.048380  [51264/60000]\n",
      "loss: 0.967627  [57664/60000]\n",
      "Test Error: \n",
      " Accuracy: 65.9%, Avg loss: 0.990663 \n",
      "\n",
      "Epoch 7\n",
      "-------------------------------\n",
      "loss: 1.048319  [   64/60000]\n",
      "loss: 1.073255  [ 6464/60000]\n",
      "loss: 0.874139  [12864/60000]\n",
      "loss: 1.030061  [19264/60000]\n",
      "loss: 0.901852  [25664/60000]\n",
      "loss: 0.931776  [32064/60000]\n",
      "loss: 0.975457  [38464/60000]\n",
      "loss: 0.928406  [44864/60000]\n",
      "loss: 0.965476  [51264/60000]\n",
      "loss: 0.898934  [57664/60000]\n",
      "Test Error: \n",
      " Accuracy: 67.0%, Avg loss: 0.916066 \n",
      "\n",
      "Epoch 8\n",
      "-------------------------------\n",
      "loss: 0.959015  [   64/60000]\n",
      "loss: 1.003368  [ 6464/60000]\n",
      "loss: 0.789686  [12864/60000]\n",
      "loss: 0.963206  [19264/60000]\n",
      "loss: 0.841275  [25664/60000]\n",
      "loss: 0.861807  [32064/60000]\n",
      "loss: 0.920358  [38464/60000]\n",
      "loss: 0.874790  [44864/60000]\n",
      "loss: 0.905014  [51264/60000]\n",
      "loss: 0.849511  [57664/60000]\n",
      "Test Error: \n",
      " Accuracy: 68.3%, Avg loss: 0.862452 \n",
      "\n",
      "Epoch 9\n",
      "-------------------------------\n",
      "loss: 0.890250  [   64/60000]\n",
      "loss: 0.951442  [ 6464/60000]\n",
      "loss: 0.726810  [12864/60000]\n",
      "loss: 0.913380  [19264/60000]\n",
      "loss: 0.798314  [25664/60000]\n",
      "loss: 0.809253  [32064/60000]\n",
      "loss: 0.878853  [38464/60000]\n",
      "loss: 0.837204  [44864/60000]\n",
      "loss: 0.859513  [51264/60000]\n",
      "loss: 0.811892  [57664/60000]\n",
      "Test Error: \n",
      " Accuracy: 69.5%, Avg loss: 0.822029 \n",
      "\n",
      "Epoch 10\n",
      "-------------------------------\n",
      "loss: 0.835263  [   64/60000]\n",
      "loss: 0.910386  [ 6464/60000]\n",
      "loss: 0.678601  [12864/60000]\n",
      "loss: 0.875010  [19264/60000]\n",
      "loss: 0.765845  [25664/60000]\n",
      "loss: 0.768991  [32064/60000]\n",
      "loss: 0.845543  [38464/60000]\n",
      "loss: 0.809658  [44864/60000]\n",
      "loss: 0.824096  [51264/60000]\n",
      "loss: 0.781717  [57664/60000]\n",
      "Test Error: \n",
      " Accuracy: 70.9%, Avg loss: 0.790072 \n",
      "\n",
      "Done!\n"
     ]
    }
   ],
   "execution_count": 26
  },
  {
   "metadata": {},
   "cell_type": "markdown",
   "source": [
    "## 保存整个模型\n",
    "\n",
    "保存整个模型意味着将模型的结构和参数一起保存到一个文件中。这种方法简单直观，但缺点是保存的文件可能会包含一些不必要的信息（如优化器状态），并且加载模型时需要有相同的模型类定义\n",
    " \n",
    "```python\n",
    "# 保存模型\n",
    "torch.save(model, 'model.pth')\n",
    "\n",
    "# 加载模型\n",
    "model = torch.load('model.pth')\n",
    "model.eval()  # 设置为评估模式\n",
    "```\n",
    "\n",
    "## 保存状态字典\n",
    "    \n",
    "状态字典包含了模型的参数，不包含模型的结构。这种方法更加灵活，可以轻松地在不同的模型结构之间迁移参数\n",
    "\n",
    "```python\n",
    "# 保存模型的状态字典\n",
    "torch.save(model.state_dict(), 'model_state_dict.pth')\n",
    "\n",
    "# 加载模型的状态字典\n",
    "model = MyModel()  # 需要先实例化模型\n",
    "model.load_state_dict(torch.load('model_state_dict.pth'))\n",
    "model.eval()  # 设置为评估模式\n",
    "```\n",
    "  \n",
    "## 加载模型\n",
    "\n",
    "要加载模型权重，需要先创建相同模型的实例，然后使用 load_state_dict() 方法加载参数，加载模型时可以指定设备，以确保模型参数在正确的设备上\n",
    "\n",
    "```python\n",
    "model.load_state_dict(torch.load('model_state_dict.pth', map_location=torch.device('cpu')))\n",
    "```\n",
    "\n",
    ">PyTorch 模型将学习到的参数存储在一个名为 state_dict 的内部状态字典中。可以通过 torch.save 方法持久化这些参数"
   ],
   "id": "4b75dab31378b3de"
  },
  {
   "metadata": {
    "ExecuteTime": {
     "end_time": "2024-09-30T03:56:07.992220Z",
     "start_time": "2024-09-30T03:56:07.973341Z"
    }
   },
   "cell_type": "code",
   "source": [
    "torch.save(model.state_dict(), \"./model/fashion_mnist.pth\")\n",
    "print(\"Saved PyTorch Model State to ./model/fashion_mnist.pth\")"
   ],
   "id": "33d8bf843d056852",
   "outputs": [
    {
     "name": "stdout",
     "output_type": "stream",
     "text": [
      "Saved PyTorch Model State to ./model/fashion_mnist.pth\n"
     ]
    }
   ],
   "execution_count": 27
  },
  {
   "metadata": {
    "ExecuteTime": {
     "end_time": "2024-09-30T03:56:08.133782Z",
     "start_time": "2024-09-30T03:56:08.110693Z"
    }
   },
   "cell_type": "code",
   "source": [
    "model = NeuralNetwork().to(device)\n",
    "model.load_state_dict(torch.load(\"./model/fashion_mnist.pth\", weights_only=True))"
   ],
   "id": "b7eb5e61e4e00116",
   "outputs": [
    {
     "data": {
      "text/plain": [
       "<All keys matched successfully>"
      ]
     },
     "execution_count": 28,
     "metadata": {},
     "output_type": "execute_result"
    }
   ],
   "execution_count": 28
  },
  {
   "metadata": {
    "ExecuteTime": {
     "end_time": "2024-09-30T04:05:14.066078Z",
     "start_time": "2024-09-30T04:05:14.058271Z"
    }
   },
   "cell_type": "code",
   "source": [
    "classes = [\n",
    "    \"T-shirt/top\",\n",
    "    \"Trouser\",\n",
    "    \"Pullover\",\n",
    "    \"Dress\",\n",
    "    \"Coat\",\n",
    "    \"Sandal\",\n",
    "    \"Shirt\",\n",
    "    \"Sneaker\",\n",
    "    \"Bag\",\n",
    "    \"Ankle boot\",\n",
    "]\n",
    "\n",
    "model.eval()\n",
    "x, y = test_data[0][0], test_data[0][1]\n",
    "with torch.no_grad():\n",
    "    x = x.to(device)\n",
    "    pred = model.forward(x)\n",
    "    predicted, actual = classes[pred[0].argmax(0)], classes[y]\n",
    "    print(f'Output tensor: {pred[0]}')\n",
    "    print(f'Predicted: \"{predicted}\", Actual: \"{actual}\"')"
   ],
   "id": "919a0233d2567797",
   "outputs": [
    {
     "name": "stdout",
     "output_type": "stream",
     "text": [
      "Output tensor: tensor([-3.5301, -5.3487, -2.3215, -2.2501, -1.6678,  4.6115, -2.0385,  4.2946,\n",
      "         2.4023,  4.9914])\n",
      "Predicted: \"Ankle boot\", Actual: \"Ankle boot\"\n"
     ]
    }
   ],
   "execution_count": 31
  },
  {
   "metadata": {},
   "cell_type": "markdown",
   "source": ">请确保在推理之前调用 model.eval() 方法，停止梯度计算降低内存占用，同时将 dropout 和批归一化层设置为评估模式，否则将导致不一致的推理结果",
   "id": "3c9d934f25a83d14"
  }
 ],
 "metadata": {
  "kernelspec": {
   "display_name": "Python 3",
   "language": "python",
   "name": "python3"
  },
  "language_info": {
   "codemirror_mode": {
    "name": "ipython",
    "version": 2
   },
   "file_extension": ".py",
   "mimetype": "text/x-python",
   "name": "python",
   "nbconvert_exporter": "python",
   "pygments_lexer": "ipython2",
   "version": "2.7.6"
  }
 },
 "nbformat": 4,
 "nbformat_minor": 5
}
