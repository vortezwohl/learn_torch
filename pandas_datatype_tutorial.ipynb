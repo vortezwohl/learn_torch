{
 "cells": [
  {
   "metadata": {},
   "cell_type": "markdown",
   "source": [
    "# Pandas\n",
    "\n",
    "Pandas 是一个开源的 Python 数据分析库，它提供了快速、灵活和表达力强的数据结构，旨在使数据清洗和分析工作变得更加简单易行。Pandas 特别适合处理表格数据，即类似于电子表格或 SQL 数据库中的数据"
   ],
   "id": "9bdf0b67f71b80ac"
  },
  {
   "cell_type": "code",
   "id": "initial_id",
   "metadata": {
    "collapsed": true,
    "ExecuteTime": {
     "end_time": "2024-09-30T08:38:20.879975Z",
     "start_time": "2024-09-30T08:38:20.472298Z"
    }
   },
   "source": [
    "import numpy as np\n",
    "import pandas as pd"
   ],
   "outputs": [],
   "execution_count": 2
  },
  {
   "metadata": {},
   "cell_type": "markdown",
   "source": [
    "## Pandas 中的基本数据结构\n",
    "\n",
    "1. `Series` 一维带标签数组，可保存任何类型数据\n",
    "2. `DataFrame` 二维数据结构，可像基于行列的表格一样保存数据"
   ],
   "id": "9a7a85c9cd9498f8"
  },
  {
   "metadata": {
    "ExecuteTime": {
     "end_time": "2024-09-30T08:38:21.928989Z",
     "start_time": "2024-09-30T08:38:21.892962Z"
    }
   },
   "cell_type": "code",
   "source": [
    "# 通过传递一个值列表来创建一个Series，让 pandas 创建一个默认的RangeIndex\n",
    "s = pd.Series([1, 3, 5, np.nan, 6, 8])\n",
    "s"
   ],
   "id": "42f93e52ef868644",
   "outputs": [
    {
     "data": {
      "text/plain": [
       "0    1.0\n",
       "1    3.0\n",
       "2    5.0\n",
       "3    NaN\n",
       "4    6.0\n",
       "5    8.0\n",
       "dtype: float64"
      ]
     },
     "execution_count": 3,
     "metadata": {},
     "output_type": "execute_result"
    }
   ],
   "execution_count": 3
  },
  {
   "metadata": {
    "ExecuteTime": {
     "end_time": "2024-09-30T08:40:32.631670Z",
     "start_time": "2024-09-30T08:40:32.605793Z"
    }
   },
   "cell_type": "code",
   "source": [
    "# 使用 ndarray 创建 Series\n",
    "s = pd.Series(np.random.randn(5), index=[\"a\", \"b\", \"c\", \"d\", \"e\"])\n",
    "s"
   ],
   "id": "4edb8438ddf7b61",
   "outputs": [
    {
     "data": {
      "text/plain": [
       "a   -0.441431\n",
       "b    1.213733\n",
       "c    0.889893\n",
       "d    1.484981\n",
       "e   -0.593813\n",
       "dtype: float64"
      ]
     },
     "execution_count": 4,
     "metadata": {},
     "output_type": "execute_result"
    }
   ],
   "execution_count": 4
  },
  {
   "metadata": {},
   "cell_type": "markdown",
   "source": ">pandas 支持非唯一索引值。如果尝试执行不支持重复索引值的运算，将在此时引发异常",
   "id": "22f8b0a1fcbd6ec1"
  },
  {
   "metadata": {
    "ExecuteTime": {
     "end_time": "2024-09-30T08:41:14.674253Z",
     "start_time": "2024-09-30T08:41:14.668451Z"
    }
   },
   "cell_type": "code",
   "source": "s.index",
   "id": "91ece3c599d7cb07",
   "outputs": [
    {
     "data": {
      "text/plain": [
       "Index(['a', 'b', 'c', 'd', 'e'], dtype='object')"
      ]
     },
     "execution_count": 5,
     "metadata": {},
     "output_type": "execute_result"
    }
   ],
   "execution_count": 5
  },
  {
   "metadata": {
    "ExecuteTime": {
     "end_time": "2024-09-30T08:41:31.551933Z",
     "start_time": "2024-09-30T08:41:31.546607Z"
    }
   },
   "cell_type": "code",
   "source": "pd.Series(np.random.randn(5))",
   "id": "e0bf7411403eb06",
   "outputs": [
    {
     "data": {
      "text/plain": [
       "0    1.100355\n",
       "1    0.316636\n",
       "2   -1.235976\n",
       "3    1.018711\n",
       "4    0.422942\n",
       "dtype: float64"
      ]
     },
     "execution_count": 6,
     "metadata": {},
     "output_type": "execute_result"
    }
   ],
   "execution_count": 6
  },
  {
   "metadata": {
    "ExecuteTime": {
     "end_time": "2024-09-30T08:43:56.096161Z",
     "start_time": "2024-09-30T08:43:56.090199Z"
    }
   },
   "cell_type": "code",
   "source": "pd.Series({\"b\": 1, \"a\": 0, \"c\": 2})",
   "id": "66478988421eda7",
   "outputs": [
    {
     "data": {
      "text/plain": [
       "b    1\n",
       "a    0\n",
       "c    2\n",
       "dtype: int64"
      ]
     },
     "execution_count": 8,
     "metadata": {},
     "output_type": "execute_result"
    }
   ],
   "execution_count": 8
  },
  {
   "metadata": {},
   "cell_type": "markdown",
   "source": ">`Series` 可从字典实例化",
   "id": "920bb6c58222cca4"
  },
  {
   "metadata": {
    "ExecuteTime": {
     "end_time": "2024-09-30T08:44:41.845149Z",
     "start_time": "2024-09-30T08:44:41.796151Z"
    }
   },
   "cell_type": "code",
   "source": "pd.Series({\"b\": 1, \"a\": 0, \"c\": 2}, index=[\"b\", \"c\", \"d\", \"a\"])",
   "id": "7d67acd2bf21a6dd",
   "outputs": [
    {
     "data": {
      "text/plain": [
       "b    1.0\n",
       "c    2.0\n",
       "d    NaN\n",
       "a    0.0\n",
       "dtype: float64"
      ]
     },
     "execution_count": 9,
     "metadata": {},
     "output_type": "execute_result"
    }
   ],
   "execution_count": 9
  },
  {
   "metadata": {},
   "cell_type": "markdown",
   "source": ">如果传递了索引，将提取与索引中标签相对应的 `data` 中的值",
   "id": "f20140a31542cbc4"
  },
  {
   "metadata": {
    "ExecuteTime": {
     "end_time": "2024-09-30T08:45:48.402974Z",
     "start_time": "2024-09-30T08:45:48.396788Z"
    }
   },
   "cell_type": "code",
   "source": "pd.Series(5.0, index=[\"a\", \"b\", \"c\", \"d\", \"e\"])",
   "id": "af7b5ea340b6d991",
   "outputs": [
    {
     "data": {
      "text/plain": [
       "a    5.0\n",
       "b    5.0\n",
       "c    5.0\n",
       "d    5.0\n",
       "e    5.0\n",
       "dtype: float64"
      ]
     },
     "execution_count": 10,
     "metadata": {},
     "output_type": "execute_result"
    }
   ],
   "execution_count": 10
  },
  {
   "metadata": {},
   "cell_type": "markdown",
   "source": ">如果 `data` 是一个标量值，则必须提供索引。该值将重复以匹配 **索引** 的长度",
   "id": "1cb27fdd6f0110c4"
  },
  {
   "metadata": {
    "ExecuteTime": {
     "end_time": "2024-09-30T08:50:27.193702Z",
     "start_time": "2024-09-30T08:50:27.190488Z"
    }
   },
   "cell_type": "code",
   "source": "s = pd.Series(np.random.randn(5), index=[\"a\", \"b\", \"c\", \"d\", \"e\"])",
   "id": "b02ca7aa3022aa63",
   "outputs": [],
   "execution_count": 21
  },
  {
   "metadata": {
    "ExecuteTime": {
     "end_time": "2024-09-30T08:50:27.859186Z",
     "start_time": "2024-09-30T08:50:27.853430Z"
    }
   },
   "cell_type": "code",
   "source": "s.iloc[0]",
   "id": "bdd2b5f8ef47f038",
   "outputs": [
    {
     "data": {
      "text/plain": [
       "np.float64(0.8750424919785778)"
      ]
     },
     "execution_count": 22,
     "metadata": {},
     "output_type": "execute_result"
    }
   ],
   "execution_count": 22
  },
  {
   "metadata": {
    "ExecuteTime": {
     "end_time": "2024-09-30T08:50:28.971589Z",
     "start_time": "2024-09-30T08:50:28.965717Z"
    }
   },
   "cell_type": "code",
   "source": "s.iloc[:3]",
   "id": "17c873d1ef7fd904",
   "outputs": [
    {
     "data": {
      "text/plain": [
       "a    0.875042\n",
       "b   -0.689753\n",
       "c   -0.687049\n",
       "dtype: float64"
      ]
     },
     "execution_count": 23,
     "metadata": {},
     "output_type": "execute_result"
    }
   ],
   "execution_count": 23
  },
  {
   "metadata": {
    "ExecuteTime": {
     "end_time": "2024-09-30T08:50:43.014125Z",
     "start_time": "2024-09-30T08:50:43.007549Z"
    }
   },
   "cell_type": "code",
   "source": "s[s > s.median()]",
   "id": "e36b79803abf8d5b",
   "outputs": [
    {
     "data": {
      "text/plain": [
       "a    0.875042\n",
       "c   -0.687049\n",
       "dtype: float64"
      ]
     },
     "execution_count": 27,
     "metadata": {},
     "output_type": "execute_result"
    }
   ],
   "execution_count": 27
  },
  {
   "metadata": {
    "ExecuteTime": {
     "end_time": "2024-09-30T08:54:06.211719Z",
     "start_time": "2024-09-30T08:54:06.204952Z"
    }
   },
   "cell_type": "code",
   "source": "s.iloc[[4,3,1]]",
   "id": "5660b93559598a47",
   "outputs": [
    {
     "data": {
      "text/plain": [
       "e   -0.755621\n",
       "d   -1.702413\n",
       "b   -0.689753\n",
       "dtype: float64"
      ]
     },
     "execution_count": 31,
     "metadata": {},
     "output_type": "execute_result"
    }
   ],
   "execution_count": 31
  },
  {
   "metadata": {
    "ExecuteTime": {
     "end_time": "2024-09-30T08:54:19.387472Z",
     "start_time": "2024-09-30T08:54:19.382438Z"
    }
   },
   "cell_type": "code",
   "source": "np.exp(s)",
   "id": "b02e93166157bdc6",
   "outputs": [
    {
     "data": {
      "text/plain": [
       "a    2.398977\n",
       "b    0.501700\n",
       "c    0.503059\n",
       "d    0.182243\n",
       "e    0.469719\n",
       "dtype: float64"
      ]
     },
     "execution_count": 32,
     "metadata": {},
     "output_type": "execute_result"
    }
   ],
   "execution_count": 32
  },
  {
   "metadata": {},
   "cell_type": "markdown",
   "source": ">`Series` 的行为与 `ndarray` 非常相似，并且是大多数 `NumPy` 函数的有效参数。但是，诸如切片之类的操作也将切片索引",
   "id": "fb04a23834e9f2bc"
  },
  {
   "metadata": {
    "ExecuteTime": {
     "end_time": "2024-09-30T08:56:16.382826Z",
     "start_time": "2024-09-30T08:56:16.377135Z"
    }
   },
   "cell_type": "code",
   "source": "s.array",
   "id": "189eb23e1f1d0a57",
   "outputs": [
    {
     "data": {
      "text/plain": [
       "<NumpyExtensionArray>\n",
       "[ np.float64(0.8750424919785778),  np.float64(-0.689752792655723),\n",
       " np.float64(-0.6870487050412248), np.float64(-1.7024133352870114),\n",
       " np.float64(-0.7556205192328711)]\n",
       "Length: 5, dtype: float64"
      ]
     },
     "execution_count": 33,
     "metadata": {},
     "output_type": "execute_result"
    }
   ],
   "execution_count": 33
  },
  {
   "metadata": {},
   "cell_type": "markdown",
   "source": ">使用 `.array` 方法可以访问 `Series` 的底层数组（并不是 `ndarray`，而是被代理增强的 `ndarray`）",
   "id": "3939913d858c9859"
  },
  {
   "metadata": {
    "ExecuteTime": {
     "end_time": "2024-09-30T08:58:03.968826Z",
     "start_time": "2024-09-30T08:58:03.964373Z"
    }
   },
   "cell_type": "code",
   "source": "s.to_numpy()",
   "id": "81fcaed7c7a5c3fa",
   "outputs": [
    {
     "data": {
      "text/plain": [
       "array([ 0.87504249, -0.68975279, -0.68704871, -1.70241334, -0.75562052])"
      ]
     },
     "execution_count": 34,
     "metadata": {},
     "output_type": "execute_result"
    }
   ],
   "execution_count": 34
  },
  {
   "metadata": {},
   "cell_type": "markdown",
   "source": ">获取真正的 `ndarray`",
   "id": "d8f827cdce815987"
  },
  {
   "metadata": {
    "ExecuteTime": {
     "end_time": "2024-09-30T08:59:43.251018Z",
     "start_time": "2024-09-30T08:59:43.247026Z"
    }
   },
   "cell_type": "code",
   "source": "s['a']",
   "id": "b8926e3aa0dde18d",
   "outputs": [
    {
     "data": {
      "text/plain": [
       "np.float64(0.8750424919785778)"
      ]
     },
     "execution_count": 35,
     "metadata": {},
     "output_type": "execute_result"
    }
   ],
   "execution_count": 35
  },
  {
   "metadata": {},
   "cell_type": "markdown",
   "source": ">`Series` 也类似于固定大小的字典，可以通过索引标签获取设置值",
   "id": "f966267e59992f0a"
  },
  {
   "metadata": {
    "ExecuteTime": {
     "end_time": "2024-09-30T09:00:45.610635Z",
     "start_time": "2024-09-30T09:00:45.606051Z"
    }
   },
   "cell_type": "code",
   "source": "s.get('b')",
   "id": "8ddc9c67fa93875",
   "outputs": [
    {
     "data": {
      "text/plain": [
       "np.float64(-0.689752792655723)"
      ]
     },
     "execution_count": 36,
     "metadata": {},
     "output_type": "execute_result"
    }
   ],
   "execution_count": 36
  },
  {
   "metadata": {},
   "cell_type": "markdown",
   "source": ">`get` 方法和下标的区别在于，如果键不存在则返回 `None` 或指定默认值",
   "id": "f8a83d6f67161de9"
  },
  {
   "metadata": {
    "ExecuteTime": {
     "end_time": "2024-09-30T09:03:08.917798Z",
     "start_time": "2024-09-30T09:03:08.912750Z"
    }
   },
   "cell_type": "code",
   "source": "s + s",
   "id": "c08e55ba313f1635",
   "outputs": [
    {
     "data": {
      "text/plain": [
       "a    1.750085\n",
       "b   -1.379506\n",
       "c   -1.374097\n",
       "d   -3.404827\n",
       "e   -1.511241\n",
       "dtype: float64"
      ]
     },
     "execution_count": 37,
     "metadata": {},
     "output_type": "execute_result"
    }
   ],
   "execution_count": 37
  },
  {
   "metadata": {},
   "cell_type": "markdown",
   "source": [
    ">在使用原始 NumPy 数组时，通常不需要逐个值地循环。在使用 pandas 中的 `Series` 时也是如此。 `Series` 也可以传递给大多数期望 `ndarray` 的 NumPy 方法\n",
    "\n",
    ">`Series` 和 `ndarray` 之间的一个关键区别是，`Series` 之间的操作会根据标签自动对齐数据。因此，我们可以随意编写计算，而无需考虑所涉及的 `Series` 是否具有相同的标签"
   ],
   "id": "1531d7cda4e91025"
  },
  {
   "metadata": {
    "ExecuteTime": {
     "end_time": "2024-09-30T09:19:48.576259Z",
     "start_time": "2024-09-30T09:19:48.567354Z"
    }
   },
   "cell_type": "code",
   "source": [
    "d = {\n",
    "    \"one\": pd.Series([1.0, 2.0, 3.0], index=[\"a\", \"b\", \"c\"]),\n",
    "    \"two\": pd.Series([1.0, 2.0, 3.0, 4.0], index=[\"a\", \"b\", \"c\", \"d\"]),\n",
    "}\n",
    "df = pd.DataFrame(data=d)\n",
    "df"
   ],
   "id": "58d2ae7e4edf03f3",
   "outputs": [
    {
     "data": {
      "text/plain": [
       "   one  two\n",
       "a  1.0  1.0\n",
       "b  2.0  2.0\n",
       "c  3.0  3.0\n",
       "d  NaN  4.0"
      ],
      "text/html": [
       "<div>\n",
       "<style scoped>\n",
       "    .dataframe tbody tr th:only-of-type {\n",
       "        vertical-align: middle;\n",
       "    }\n",
       "\n",
       "    .dataframe tbody tr th {\n",
       "        vertical-align: top;\n",
       "    }\n",
       "\n",
       "    .dataframe thead th {\n",
       "        text-align: right;\n",
       "    }\n",
       "</style>\n",
       "<table border=\"1\" class=\"dataframe\">\n",
       "  <thead>\n",
       "    <tr style=\"text-align: right;\">\n",
       "      <th></th>\n",
       "      <th>one</th>\n",
       "      <th>two</th>\n",
       "    </tr>\n",
       "  </thead>\n",
       "  <tbody>\n",
       "    <tr>\n",
       "      <th>a</th>\n",
       "      <td>1.0</td>\n",
       "      <td>1.0</td>\n",
       "    </tr>\n",
       "    <tr>\n",
       "      <th>b</th>\n",
       "      <td>2.0</td>\n",
       "      <td>2.0</td>\n",
       "    </tr>\n",
       "    <tr>\n",
       "      <th>c</th>\n",
       "      <td>3.0</td>\n",
       "      <td>3.0</td>\n",
       "    </tr>\n",
       "    <tr>\n",
       "      <th>d</th>\n",
       "      <td>NaN</td>\n",
       "      <td>4.0</td>\n",
       "    </tr>\n",
       "  </tbody>\n",
       "</table>\n",
       "</div>"
      ]
     },
     "execution_count": 42,
     "metadata": {},
     "output_type": "execute_result"
    }
   ],
   "execution_count": 42
  },
  {
   "metadata": {},
   "cell_type": "markdown",
   "source": [
    ">`DataFrame` 是一种二维带标签的数据结构，包含可能不同类型的列。您可以将其视为电子表格或 SQL 表，或 `Series` 对象的字典。它通常是 pandas 中最常用的对象。与 `Series` 一样，`DataFrame` 接受许多不同类型的输入\n",
    "\n",
    ">除了数据之外，您还可以选择传递 index（行标签）和 columns（列标签）参数。如果您传递了 index 和/或 columns，则保证了结果 `DataFrame` 的 index 和/或 columns"
   ],
   "id": "9d56516cd1ee98a0"
  },
  {
   "metadata": {
    "ExecuteTime": {
     "end_time": "2024-09-30T09:27:10.811102Z",
     "start_time": "2024-09-30T09:27:10.801601Z"
    }
   },
   "cell_type": "code",
   "source": "pd.DataFrame(d, index=[\"a\", \"b\"])",
   "id": "131a01005007d29b",
   "outputs": [
    {
     "data": {
      "text/plain": [
       "   one  two\n",
       "a  1.0  1.0\n",
       "b  2.0  2.0"
      ],
      "text/html": [
       "<div>\n",
       "<style scoped>\n",
       "    .dataframe tbody tr th:only-of-type {\n",
       "        vertical-align: middle;\n",
       "    }\n",
       "\n",
       "    .dataframe tbody tr th {\n",
       "        vertical-align: top;\n",
       "    }\n",
       "\n",
       "    .dataframe thead th {\n",
       "        text-align: right;\n",
       "    }\n",
       "</style>\n",
       "<table border=\"1\" class=\"dataframe\">\n",
       "  <thead>\n",
       "    <tr style=\"text-align: right;\">\n",
       "      <th></th>\n",
       "      <th>one</th>\n",
       "      <th>two</th>\n",
       "    </tr>\n",
       "  </thead>\n",
       "  <tbody>\n",
       "    <tr>\n",
       "      <th>a</th>\n",
       "      <td>1.0</td>\n",
       "      <td>1.0</td>\n",
       "    </tr>\n",
       "    <tr>\n",
       "      <th>b</th>\n",
       "      <td>2.0</td>\n",
       "      <td>2.0</td>\n",
       "    </tr>\n",
       "  </tbody>\n",
       "</table>\n",
       "</div>"
      ]
     },
     "execution_count": 43,
     "metadata": {},
     "output_type": "execute_result"
    }
   ],
   "execution_count": 43
  },
  {
   "metadata": {},
   "cell_type": "markdown",
   "source": [
    ">当传递特定列集以及数据字典时，传递的列将覆盖字典中的键\n",
    " \n",
    ">`Series` 字典加上特定 index 将丢弃所有与传递的 index 不匹配的数据"
   ],
   "id": "363dfc59983d126b"
  },
  {
   "metadata": {
    "ExecuteTime": {
     "end_time": "2024-09-30T09:30:55.265226Z",
     "start_time": "2024-09-30T09:30:55.258961Z"
    }
   },
   "cell_type": "code",
   "source": [
    "data = np.asarray([(1, 2.0, \"Hello\"), (2, 3.0, \"World\")])\n",
    "data"
   ],
   "id": "cdd7c000dd2f0766",
   "outputs": [
    {
     "data": {
      "text/plain": [
       "array([['1', '2.0', 'Hello'],\n",
       "       ['2', '3.0', 'World']], dtype='<U32')"
      ]
     },
     "execution_count": 46,
     "metadata": {},
     "output_type": "execute_result"
    }
   ],
   "execution_count": 46
  },
  {
   "metadata": {
    "ExecuteTime": {
     "end_time": "2024-09-30T09:32:00.903622Z",
     "start_time": "2024-09-30T09:32:00.897776Z"
    }
   },
   "cell_type": "code",
   "source": "pd.DataFrame(data=data, columns=[\"A\", \"B\", \"C\"])",
   "id": "4193db0825a50321",
   "outputs": [
    {
     "data": {
      "text/plain": [
       "   A    B      C\n",
       "0  1  2.0  Hello\n",
       "1  2  3.0  World"
      ],
      "text/html": [
       "<div>\n",
       "<style scoped>\n",
       "    .dataframe tbody tr th:only-of-type {\n",
       "        vertical-align: middle;\n",
       "    }\n",
       "\n",
       "    .dataframe tbody tr th {\n",
       "        vertical-align: top;\n",
       "    }\n",
       "\n",
       "    .dataframe thead th {\n",
       "        text-align: right;\n",
       "    }\n",
       "</style>\n",
       "<table border=\"1\" class=\"dataframe\">\n",
       "  <thead>\n",
       "    <tr style=\"text-align: right;\">\n",
       "      <th></th>\n",
       "      <th>A</th>\n",
       "      <th>B</th>\n",
       "      <th>C</th>\n",
       "    </tr>\n",
       "  </thead>\n",
       "  <tbody>\n",
       "    <tr>\n",
       "      <th>0</th>\n",
       "      <td>1</td>\n",
       "      <td>2.0</td>\n",
       "      <td>Hello</td>\n",
       "    </tr>\n",
       "    <tr>\n",
       "      <th>1</th>\n",
       "      <td>2</td>\n",
       "      <td>3.0</td>\n",
       "      <td>World</td>\n",
       "    </tr>\n",
       "  </tbody>\n",
       "</table>\n",
       "</div>"
      ]
     },
     "execution_count": 50,
     "metadata": {},
     "output_type": "execute_result"
    }
   ],
   "execution_count": 50
  },
  {
   "metadata": {
    "ExecuteTime": {
     "end_time": "2024-09-30T09:54:48.433675Z",
     "start_time": "2024-09-30T09:54:48.427131Z"
    }
   },
   "cell_type": "code",
   "source": [
    "df = pd.DataFrame(data=data, columns=[\"A\", \"B\", \"C\"], index=['first', 'second'])\n",
    "df"
   ],
   "id": "372da14c12d844a",
   "outputs": [
    {
     "data": {
      "text/plain": [
       "        A    B      C\n",
       "first   1  2.0  Hello\n",
       "second  2  3.0  World"
      ],
      "text/html": [
       "<div>\n",
       "<style scoped>\n",
       "    .dataframe tbody tr th:only-of-type {\n",
       "        vertical-align: middle;\n",
       "    }\n",
       "\n",
       "    .dataframe tbody tr th {\n",
       "        vertical-align: top;\n",
       "    }\n",
       "\n",
       "    .dataframe thead th {\n",
       "        text-align: right;\n",
       "    }\n",
       "</style>\n",
       "<table border=\"1\" class=\"dataframe\">\n",
       "  <thead>\n",
       "    <tr style=\"text-align: right;\">\n",
       "      <th></th>\n",
       "      <th>A</th>\n",
       "      <th>B</th>\n",
       "      <th>C</th>\n",
       "    </tr>\n",
       "  </thead>\n",
       "  <tbody>\n",
       "    <tr>\n",
       "      <th>first</th>\n",
       "      <td>1</td>\n",
       "      <td>2.0</td>\n",
       "      <td>Hello</td>\n",
       "    </tr>\n",
       "    <tr>\n",
       "      <th>second</th>\n",
       "      <td>2</td>\n",
       "      <td>3.0</td>\n",
       "      <td>World</td>\n",
       "    </tr>\n",
       "  </tbody>\n",
       "</table>\n",
       "</div>"
      ]
     },
     "execution_count": 62,
     "metadata": {},
     "output_type": "execute_result"
    }
   ],
   "execution_count": 62
  },
  {
   "metadata": {},
   "cell_type": "markdown",
   "source": ">从结构化或记录数组创建 `DataFrame`",
   "id": "93188cd300bbeb47"
  }
 ],
 "metadata": {
  "kernelspec": {
   "display_name": "Python 3",
   "language": "python",
   "name": "python3"
  },
  "language_info": {
   "codemirror_mode": {
    "name": "ipython",
    "version": 2
   },
   "file_extension": ".py",
   "mimetype": "text/x-python",
   "name": "python",
   "nbconvert_exporter": "python",
   "pygments_lexer": "ipython2",
   "version": "2.7.6"
  }
 },
 "nbformat": 4,
 "nbformat_minor": 5
}
